{
 "cells": [
  {
   "cell_type": "markdown",
   "metadata": {},
   "source": [
    "## Exploratory Data Analysis"
   ]
  },
  {
   "cell_type": "code",
   "execution_count": null,
   "metadata": {},
   "outputs": [],
   "source": [
    "############################################################################\n",
    "# Name: Liam Navarre, Connor Deide\n",
    "# Class: CPSC 322, Fall 2022\n",
    "# Final Project\n",
    "# 12/14/2022\n",
    "#\n",
    "# Description: This file contains an overview of our project and shows how\n",
    "# we have prepared, used, and interpreted the data from our input files\n",
    "############################################################################"
   ]
  },
  {
   "cell_type": "code",
   "execution_count": null,
   "metadata": {},
   "outputs": [],
   "source": [
    "import os\n",
    "import importlib\n",
    "import pandas as pd\n",
    "\n",
    "from project_application import project_utils\n",
    "importlib.reload(project_utils)\n",
    "from classifier_models import classifiers\n",
    "importlib.reload(classifiers)\n",
    "from classifier_models.classifiers import MyDummyClassifier as Dummy_clf\n",
    "from classifier_models.classifiers import MyKNeighborsClassifier as KNeighbors_clf\n",
    "from classifier_models.classifiers import MyNaiveBayesClassifier as NaiveBayes_clf"
   ]
  },
  {
   "cell_type": "markdown",
   "metadata": {},
   "source": [
    "### Data Cleaning and Preperation"
   ]
  },
  {
   "cell_type": "code",
   "execution_count": 27,
   "metadata": {},
   "outputs": [
    {
     "name": "stdout",
     "output_type": "stream",
     "text": [
      "the_office_data Dataframe Statistics After Cleaning\n",
      "       EpisodeNumOverall      Season     Ratings  Viewership    Duration  \\\n",
      "count         201.000000  188.000000  188.000000  188.000000  188.000000   \n",
      "mean          100.000000    5.468085    8.237234    7.246330   27.053191   \n",
      "std            58.167861    2.386245    0.589930    2.066012    6.937254   \n",
      "min             0.000000    1.000000    6.600000    3.250000   19.000000   \n",
      "25%            50.000000    3.000000    7.800000    5.990000   22.000000   \n",
      "50%           100.000000    6.000000    8.200000    7.535000   23.000000   \n",
      "75%           150.000000    7.250000    8.600000    8.425000   30.000000   \n",
      "max           200.000000    9.000000    9.800000   22.910000   60.000000   \n",
      "\n",
      "          USViewers  \n",
      "count  2.010000e+02  \n",
      "mean   7.358856e+06  \n",
      "std    2.311785e+06  \n",
      "min    3.250000e+06  \n",
      "25%    6.020000e+06  \n",
      "50%    7.600000e+06  \n",
      "75%    8.460000e+06  \n",
      "max    2.291000e+07  \n"
     ]
    }
   ],
   "source": [
    "# Read the data from file\n",
    "the_office_data_1 = pd.read_csv('./data/the_office_series.csv')\n",
    "the_office_data_2 = pd.read_csv('./data/the_office_episodes.csv')\n",
    "\n",
    "# Remove unwanted attributes from the two tables\n",
    "# From dataframe 1\n",
    "the_office_data_1.pop(\"Votes\")\n",
    "the_office_data_1.pop(\"Date\")\n",
    "the_office_data_1.pop(\"Director\")\n",
    "the_office_data_1.pop(\"Writers\")\n",
    "# From dataframe 2\n",
    "the_office_data_2.pop(\"Season\")\n",
    "the_office_data_2.pop(\"EpisodeNumInSeason\")\n",
    "the_office_data_2.pop(\"OriginalAirDate\")\n",
    "the_office_data_2.pop(\"ProdCode\")\n",
    "\n",
    "# Join the data on the EpisodeNumOverall attribute\n",
    "    # Serves as a unique id\n",
    "the_office_data = pd.merge(the_office_data_1, the_office_data_2, on=\"EpisodeNumOverall\", how=\"outer\")\n",
    "print(\"the_office_data Dataframe Statistics After Cleaning\")\n",
    "print(the_office_data.describe())"
   ]
  },
  {
   "cell_type": "markdown",
   "metadata": {},
   "source": [
    "### Data Aggregation "
   ]
  },
  {
   "cell_type": "code",
   "execution_count": null,
   "metadata": {},
   "outputs": [],
   "source": []
  },
  {
   "cell_type": "markdown",
   "metadata": {},
   "source": [
    "### Data Exploratory Analysis"
   ]
  }
 ],
 "metadata": {
  "language_info": {
   "name": "python"
  },
  "orig_nbformat": 4
 },
 "nbformat": 4,
 "nbformat_minor": 2
}
