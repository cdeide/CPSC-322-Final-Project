{
 "cells": [
  {
   "cell_type": "code",
   "execution_count": 31,
   "metadata": {},
   "outputs": [],
   "source": [
    "############################################################################\n",
    "# Name: Liam Navarre, Connor Deide\n",
    "# Class: CPSC 322, Fall 2022\n",
    "# Final Project\n",
    "# 12/14/2022\n",
    "#\n",
    "# Description: This file contains an overview of our project and shows how\n",
    "# we have prepared, used, and interpreted the data from our input files\n",
    "############################################################################"
   ]
  },
  {
   "cell_type": "code",
   "execution_count": 32,
   "metadata": {},
   "outputs": [],
   "source": [
    "import pandas as pd\n",
    "\n"
   ]
  },
  {
   "cell_type": "markdown",
   "metadata": {},
   "source": [
    "# Introduction"
   ]
  },
  {
   "cell_type": "code",
   "execution_count": 33,
   "metadata": {},
   "outputs": [
    {
     "name": "stdout",
     "output_type": "stream",
     "text": [
      "0        0\n",
      "1        1\n",
      "2        2\n",
      "3        3\n",
      "4        4\n",
      "      ... \n",
      "196    196\n",
      "197    197\n",
      "198    198\n",
      "199    199\n",
      "200    200\n",
      "Name: EpisodeNumOverall, Length: 201, dtype: int64\n"
     ]
    }
   ],
   "source": [
    "# Read the data from file\n",
    "the_office_data_1 = pd.read_csv('../data/the_office_series.csv')\n",
    "the_office_data_2 = pd.read_csv('../data/the_office_episodes.csv')\n",
    "\n",
    "\n",
    "# Remove unwanted attribute from the two data frames\n",
    "# Join the data on the EpisodeNumOverall attribute\n",
    "    # Serves as a unique id"
   ]
  }
 ],
 "metadata": {
  "kernelspec": {
   "display_name": "Python 3.9.12 ('base')",
   "language": "python",
   "name": "python3"
  },
  "language_info": {
   "codemirror_mode": {
    "name": "ipython",
    "version": 3
   },
   "file_extension": ".py",
   "mimetype": "text/x-python",
   "name": "python",
   "nbconvert_exporter": "python",
   "pygments_lexer": "ipython3",
   "version": "3.9.12"
  },
  "orig_nbformat": 4,
  "vscode": {
   "interpreter": {
    "hash": "d4d1e4263499bec80672ea0156c357c1ee493ec2b1c70f0acce89fc37c4a6abe"
   }
  }
 },
 "nbformat": 4,
 "nbformat_minor": 2
}
