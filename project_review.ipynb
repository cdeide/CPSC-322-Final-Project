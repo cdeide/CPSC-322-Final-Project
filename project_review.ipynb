{
 "cells": [
  {
   "cell_type": "code",
   "execution_count": 17,
   "metadata": {},
   "outputs": [],
   "source": [
    "############################################################################\n",
    "# Name: Liam Navarre, Connor Deide\n",
    "# Class: CPSC 322, Fall 2022\n",
    "# Final Project\n",
    "# 12/14/2022\n",
    "#\n",
    "# Description: This file contains an overview of our project and shows how\n",
    "# we have prepared, used, and interpreted the data from our input files\n",
    "############################################################################"
   ]
  },
  {
   "cell_type": "code",
   "execution_count": 18,
   "metadata": {},
   "outputs": [],
   "source": [
    "import os\n",
    "import importlib\n",
    "import pandas as pd\n",
    "\n",
    "from project_application import project_utils\n",
    "importlib.reload(project_utils)\n",
    "from classifier_models import classifiers\n",
    "importlib.reload(classifiers)\n",
    "from classifier_models.classifiers import MyDummyClassifier as Dummy_clf\n",
    "from classifier_models.classifiers import MyKNeighborsClassifier as KNeighbors_clf\n",
    "from classifier_models.classifiers import MyNaiveBayesClassifier as NaiveBayes_clf\n",
    "\n",
    "\n",
    "\n"
   ]
  },
  {
   "cell_type": "markdown",
   "metadata": {},
   "source": [
    "# Introduction"
   ]
  },
  {
   "cell_type": "code",
   "execution_count": 19,
   "metadata": {},
   "outputs": [
    {
     "ename": "KeyError",
     "evalue": "     Season  EpisodeNumOverall             Title       DirectedBy  \\\n0         1                  0             Pilot       Ken Kwapis   \n1         1                  1     Diversity Day       Ken Kwapis   \n2         1                  2       Health Care  Ken Whittingham   \n3         1                  3      The Alliance     Bryan Gordon   \n4         1                  4        Basketball     Greg Daniels   \n..      ...                ...               ...              ...   \n196       9                196  Livin' the Dream    Jeffrey Blitz   \n197       9                197          A.A.R.M.     David Rogers   \n198       9                198          A.A.R.M.     David Rogers   \n199       9                199            Finale       Ken Kwapis   \n200       9                200            Finale       Ken Kwapis   \n\n                                             WrittenBy   USViewers  \n0    Ricky Gervais & Stephen Merchant and Greg Daniels  11200000.0  \n1                                          B. J. Novak   6000000.0  \n2                                     Paul Lieberstein   5800000.0  \n3                                        Michael Schur   5400000.0  \n4                                         Greg Daniels   5000000.0  \n..                                                 ...         ...  \n196                               Niki Schwartz-Wright   3510000.0  \n197                                    Brent Forrester   4560000.0  \n198                                    Brent Forrester   4560000.0  \n199                                       Greg Daniels   5690000.0  \n200                                       Greg Daniels   5690000.0  \n\n[201 rows x 6 columns]",
     "output_type": "error",
     "traceback": [
      "\u001b[0;31m---------------------------------------------------------------------------\u001b[0m",
      "\u001b[0;31mKeyError\u001b[0m                                  Traceback (most recent call last)",
      "\u001b[1;32m/home/CPSC-322-Final-Project/project_review.ipynb Cell 4\u001b[0m in \u001b[0;36m<cell line: 18>\u001b[0;34m()\u001b[0m\n\u001b[1;32m     <a href='vscode-notebook-cell://attached-container%2B7b22636f6e7461696e65724e616d65223a222f616e61636f6e6461335f637073633332322d32227d/home/CPSC-322-Final-Project/project_review.ipynb#W3sdnNjb2RlLXJlbW90ZQ%3D%3D?line=13'>14</a>\u001b[0m the_office_data_2\u001b[39m.\u001b[39mpop(\u001b[39m\"\u001b[39m\u001b[39mProdCode\u001b[39m\u001b[39m\"\u001b[39m)\n\u001b[1;32m     <a href='vscode-notebook-cell://attached-container%2B7b22636f6e7461696e65724e616d65223a222f616e61636f6e6461335f637073633332322d32227d/home/CPSC-322-Final-Project/project_review.ipynb#W3sdnNjb2RlLXJlbW90ZQ%3D%3D?line=15'>16</a>\u001b[0m \u001b[39m# Join the data on the EpisodeNumOverall attribute\u001b[39;00m\n\u001b[1;32m     <a href='vscode-notebook-cell://attached-container%2B7b22636f6e7461696e65724e616d65223a222f616e61636f6e6461335f637073633332322d32227d/home/CPSC-322-Final-Project/project_review.ipynb#W3sdnNjb2RlLXJlbW90ZQ%3D%3D?line=16'>17</a>\u001b[0m     \u001b[39m# Serves as a unique id\u001b[39;00m\n\u001b[0;32m---> <a href='vscode-notebook-cell://attached-container%2B7b22636f6e7461696e65724e616d65223a222f616e61636f6e6461335f637073633332322d32227d/home/CPSC-322-Final-Project/project_review.ipynb#W3sdnNjb2RlLXJlbW90ZQ%3D%3D?line=17'>18</a>\u001b[0m the_office_data_1\u001b[39m.\u001b[39;49mjoin(the_office_data_1, the_office_data_2, \u001b[39m\"\u001b[39;49m\u001b[39mEpisodeNumOverall\u001b[39;49m\u001b[39m\"\u001b[39;49m)\n\u001b[1;32m     <a href='vscode-notebook-cell://attached-container%2B7b22636f6e7461696e65724e616d65223a222f616e61636f6e6461335f637073633332322d32227d/home/CPSC-322-Final-Project/project_review.ipynb#W3sdnNjb2RlLXJlbW90ZQ%3D%3D?line=18'>19</a>\u001b[0m display(the_office_data_1)\n",
      "File \u001b[0;32m/opt/conda/lib/python3.9/site-packages/pandas/core/frame.py:9254\u001b[0m, in \u001b[0;36mDataFrame.join\u001b[0;34m(self, other, on, how, lsuffix, rsuffix, sort)\u001b[0m\n\u001b[1;32m   9100\u001b[0m \u001b[39mdef\u001b[39;00m \u001b[39mjoin\u001b[39m(\n\u001b[1;32m   9101\u001b[0m     \u001b[39mself\u001b[39m,\n\u001b[1;32m   9102\u001b[0m     other: DataFrame \u001b[39m|\u001b[39m Series,\n\u001b[0;32m   (...)\u001b[0m\n\u001b[1;32m   9107\u001b[0m     sort: \u001b[39mbool\u001b[39m \u001b[39m=\u001b[39m \u001b[39mFalse\u001b[39;00m,\n\u001b[1;32m   9108\u001b[0m ) \u001b[39m-\u001b[39m\u001b[39m>\u001b[39m DataFrame:\n\u001b[1;32m   9109\u001b[0m     \u001b[39m\"\"\"\u001b[39;00m\n\u001b[1;32m   9110\u001b[0m \u001b[39m    Join columns of another DataFrame.\u001b[39;00m\n\u001b[1;32m   9111\u001b[0m \n\u001b[0;32m   (...)\u001b[0m\n\u001b[1;32m   9252\u001b[0m \u001b[39m    5  K1  A5   B1\u001b[39;00m\n\u001b[1;32m   9253\u001b[0m \u001b[39m    \"\"\"\u001b[39;00m\n\u001b[0;32m-> 9254\u001b[0m     \u001b[39mreturn\u001b[39;00m \u001b[39mself\u001b[39;49m\u001b[39m.\u001b[39;49m_join_compat(\n\u001b[1;32m   9255\u001b[0m         other, on\u001b[39m=\u001b[39;49mon, how\u001b[39m=\u001b[39;49mhow, lsuffix\u001b[39m=\u001b[39;49mlsuffix, rsuffix\u001b[39m=\u001b[39;49mrsuffix, sort\u001b[39m=\u001b[39;49msort\n\u001b[1;32m   9256\u001b[0m     )\n",
      "File \u001b[0;32m/opt/conda/lib/python3.9/site-packages/pandas/core/frame.py:9285\u001b[0m, in \u001b[0;36mDataFrame._join_compat\u001b[0;34m(self, other, on, how, lsuffix, rsuffix, sort)\u001b[0m\n\u001b[1;32m   9276\u001b[0m     \u001b[39mif\u001b[39;00m how \u001b[39m==\u001b[39m \u001b[39m\"\u001b[39m\u001b[39mcross\u001b[39m\u001b[39m\"\u001b[39m:\n\u001b[1;32m   9277\u001b[0m         \u001b[39mreturn\u001b[39;00m merge(\n\u001b[1;32m   9278\u001b[0m             \u001b[39mself\u001b[39m,\n\u001b[1;32m   9279\u001b[0m             other,\n\u001b[0;32m   (...)\u001b[0m\n\u001b[1;32m   9283\u001b[0m             sort\u001b[39m=\u001b[39msort,\n\u001b[1;32m   9284\u001b[0m         )\n\u001b[0;32m-> 9285\u001b[0m     \u001b[39mreturn\u001b[39;00m merge(\n\u001b[1;32m   9286\u001b[0m         \u001b[39mself\u001b[39;49m,\n\u001b[1;32m   9287\u001b[0m         other,\n\u001b[1;32m   9288\u001b[0m         left_on\u001b[39m=\u001b[39;49mon,\n\u001b[1;32m   9289\u001b[0m         how\u001b[39m=\u001b[39;49mhow,\n\u001b[1;32m   9290\u001b[0m         left_index\u001b[39m=\u001b[39;49mon \u001b[39mis\u001b[39;49;00m \u001b[39mNone\u001b[39;49;00m,\n\u001b[1;32m   9291\u001b[0m         right_index\u001b[39m=\u001b[39;49m\u001b[39mTrue\u001b[39;49;00m,\n\u001b[1;32m   9292\u001b[0m         suffixes\u001b[39m=\u001b[39;49m(lsuffix, rsuffix),\n\u001b[1;32m   9293\u001b[0m         sort\u001b[39m=\u001b[39;49msort,\n\u001b[1;32m   9294\u001b[0m     )\n\u001b[1;32m   9295\u001b[0m \u001b[39melse\u001b[39;00m:\n\u001b[1;32m   9296\u001b[0m     \u001b[39mif\u001b[39;00m on \u001b[39mis\u001b[39;00m \u001b[39mnot\u001b[39;00m \u001b[39mNone\u001b[39;00m:\n",
      "File \u001b[0;32m/opt/conda/lib/python3.9/site-packages/pandas/core/reshape/merge.py:107\u001b[0m, in \u001b[0;36mmerge\u001b[0;34m(left, right, how, on, left_on, right_on, left_index, right_index, sort, suffixes, copy, indicator, validate)\u001b[0m\n\u001b[1;32m     90\u001b[0m \u001b[39m@Substitution\u001b[39m(\u001b[39m\"\u001b[39m\u001b[39m\\n\u001b[39;00m\u001b[39mleft : DataFrame or named Series\u001b[39m\u001b[39m\"\u001b[39m)\n\u001b[1;32m     91\u001b[0m \u001b[39m@Appender\u001b[39m(_merge_doc, indents\u001b[39m=\u001b[39m\u001b[39m0\u001b[39m)\n\u001b[1;32m     92\u001b[0m \u001b[39mdef\u001b[39;00m \u001b[39mmerge\u001b[39m(\n\u001b[0;32m   (...)\u001b[0m\n\u001b[1;32m    105\u001b[0m     validate: \u001b[39mstr\u001b[39m \u001b[39m|\u001b[39m \u001b[39mNone\u001b[39;00m \u001b[39m=\u001b[39m \u001b[39mNone\u001b[39;00m,\n\u001b[1;32m    106\u001b[0m ) \u001b[39m-\u001b[39m\u001b[39m>\u001b[39m DataFrame:\n\u001b[0;32m--> 107\u001b[0m     op \u001b[39m=\u001b[39m _MergeOperation(\n\u001b[1;32m    108\u001b[0m         left,\n\u001b[1;32m    109\u001b[0m         right,\n\u001b[1;32m    110\u001b[0m         how\u001b[39m=\u001b[39;49mhow,\n\u001b[1;32m    111\u001b[0m         on\u001b[39m=\u001b[39;49mon,\n\u001b[1;32m    112\u001b[0m         left_on\u001b[39m=\u001b[39;49mleft_on,\n\u001b[1;32m    113\u001b[0m         right_on\u001b[39m=\u001b[39;49mright_on,\n\u001b[1;32m    114\u001b[0m         left_index\u001b[39m=\u001b[39;49mleft_index,\n\u001b[1;32m    115\u001b[0m         right_index\u001b[39m=\u001b[39;49mright_index,\n\u001b[1;32m    116\u001b[0m         sort\u001b[39m=\u001b[39;49msort,\n\u001b[1;32m    117\u001b[0m         suffixes\u001b[39m=\u001b[39;49msuffixes,\n\u001b[1;32m    118\u001b[0m         copy\u001b[39m=\u001b[39;49mcopy,\n\u001b[1;32m    119\u001b[0m         indicator\u001b[39m=\u001b[39;49mindicator,\n\u001b[1;32m    120\u001b[0m         validate\u001b[39m=\u001b[39;49mvalidate,\n\u001b[1;32m    121\u001b[0m     )\n\u001b[1;32m    122\u001b[0m     \u001b[39mreturn\u001b[39;00m op\u001b[39m.\u001b[39mget_result()\n",
      "File \u001b[0;32m/opt/conda/lib/python3.9/site-packages/pandas/core/reshape/merge.py:700\u001b[0m, in \u001b[0;36m_MergeOperation.__init__\u001b[0;34m(self, left, right, how, on, left_on, right_on, axis, left_index, right_index, sort, suffixes, copy, indicator, validate)\u001b[0m\n\u001b[1;32m    693\u001b[0m \u001b[39mself\u001b[39m\u001b[39m.\u001b[39m_cross \u001b[39m=\u001b[39m cross_col\n\u001b[1;32m    695\u001b[0m \u001b[39m# note this function has side effects\u001b[39;00m\n\u001b[1;32m    696\u001b[0m (\n\u001b[1;32m    697\u001b[0m     \u001b[39mself\u001b[39m\u001b[39m.\u001b[39mleft_join_keys,\n\u001b[1;32m    698\u001b[0m     \u001b[39mself\u001b[39m\u001b[39m.\u001b[39mright_join_keys,\n\u001b[1;32m    699\u001b[0m     \u001b[39mself\u001b[39m\u001b[39m.\u001b[39mjoin_names,\n\u001b[0;32m--> 700\u001b[0m ) \u001b[39m=\u001b[39m \u001b[39mself\u001b[39;49m\u001b[39m.\u001b[39;49m_get_merge_keys()\n\u001b[1;32m    702\u001b[0m \u001b[39m# validate the merge keys dtypes. We may need to coerce\u001b[39;00m\n\u001b[1;32m    703\u001b[0m \u001b[39m# to avoid incompatible dtypes\u001b[39;00m\n\u001b[1;32m    704\u001b[0m \u001b[39mself\u001b[39m\u001b[39m.\u001b[39m_maybe_coerce_merge_keys()\n",
      "File \u001b[0;32m/opt/conda/lib/python3.9/site-packages/pandas/core/reshape/merge.py:1122\u001b[0m, in \u001b[0;36m_MergeOperation._get_merge_keys\u001b[0;34m(self)\u001b[0m\n\u001b[1;32m   1120\u001b[0m         join_names\u001b[39m.\u001b[39mappend(\u001b[39mNone\u001b[39;00m)\n\u001b[1;32m   1121\u001b[0m     \u001b[39melse\u001b[39;00m:\n\u001b[0;32m-> 1122\u001b[0m         left_keys\u001b[39m.\u001b[39mappend(left\u001b[39m.\u001b[39;49m_get_label_or_level_values(k))\n\u001b[1;32m   1123\u001b[0m         join_names\u001b[39m.\u001b[39mappend(k)\n\u001b[1;32m   1124\u001b[0m \u001b[39mif\u001b[39;00m \u001b[39misinstance\u001b[39m(\u001b[39mself\u001b[39m\u001b[39m.\u001b[39mright\u001b[39m.\u001b[39mindex, MultiIndex):\n",
      "File \u001b[0;32m/opt/conda/lib/python3.9/site-packages/pandas/core/generic.py:1840\u001b[0m, in \u001b[0;36mNDFrame._get_label_or_level_values\u001b[0;34m(self, key, axis)\u001b[0m\n\u001b[1;32m   1838\u001b[0m     values \u001b[39m=\u001b[39m \u001b[39mself\u001b[39m\u001b[39m.\u001b[39maxes[axis]\u001b[39m.\u001b[39mget_level_values(key)\u001b[39m.\u001b[39m_values\n\u001b[1;32m   1839\u001b[0m \u001b[39melse\u001b[39;00m:\n\u001b[0;32m-> 1840\u001b[0m     \u001b[39mraise\u001b[39;00m \u001b[39mKeyError\u001b[39;00m(key)\n\u001b[1;32m   1842\u001b[0m \u001b[39m# Check for duplicates\u001b[39;00m\n\u001b[1;32m   1843\u001b[0m \u001b[39mif\u001b[39;00m values\u001b[39m.\u001b[39mndim \u001b[39m>\u001b[39m \u001b[39m1\u001b[39m:\n",
      "\u001b[0;31mKeyError\u001b[0m:      Season  EpisodeNumOverall             Title       DirectedBy  \\\n0         1                  0             Pilot       Ken Kwapis   \n1         1                  1     Diversity Day       Ken Kwapis   \n2         1                  2       Health Care  Ken Whittingham   \n3         1                  3      The Alliance     Bryan Gordon   \n4         1                  4        Basketball     Greg Daniels   \n..      ...                ...               ...              ...   \n196       9                196  Livin' the Dream    Jeffrey Blitz   \n197       9                197          A.A.R.M.     David Rogers   \n198       9                198          A.A.R.M.     David Rogers   \n199       9                199            Finale       Ken Kwapis   \n200       9                200            Finale       Ken Kwapis   \n\n                                             WrittenBy   USViewers  \n0    Ricky Gervais & Stephen Merchant and Greg Daniels  11200000.0  \n1                                          B. J. Novak   6000000.0  \n2                                     Paul Lieberstein   5800000.0  \n3                                        Michael Schur   5400000.0  \n4                                         Greg Daniels   5000000.0  \n..                                                 ...         ...  \n196                               Niki Schwartz-Wright   3510000.0  \n197                                    Brent Forrester   4560000.0  \n198                                    Brent Forrester   4560000.0  \n199                                       Greg Daniels   5690000.0  \n200                                       Greg Daniels   5690000.0  \n\n[201 rows x 6 columns]"
     ]
    }
   ],
   "source": [
    "# Read the data from file\n",
    "the_office_data_1 = pd.read_csv('./data/the_office_series.csv')\n",
    "the_office_data_2 = pd.read_csv('./data/the_office_episodes.csv')\n",
    "\n",
    "# Remove unwanted attributes from the two tables\n",
    "# From dataframe 1\n",
    "the_office_data_1.pop(\"Votes\")\n",
    "the_office_data_1.pop(\"Date\")\n",
    "the_office_data_1.pop(\"Director\")\n",
    "the_office_data_1.pop(\"Writers\")\n",
    "# From dataframe 2\n",
    "the_office_data_2.pop(\"EpisodeNumInSeason\")\n",
    "the_office_data_2.pop(\"OriginalAirDate\")\n",
    "the_office_data_2.pop(\"ProdCode\")\n",
    "\n",
    "# Join the data on the EpisodeNumOverall attribute\n",
    "    # Serves as a unique id\n",
    "the_office_data_1.join(the_office_data_2, \"EpisodeNumOverall\")\n",
    "display(the_office_data_1)"
   ]
  }
 ],
 "metadata": {
  "kernelspec": {
   "display_name": "Python 3.9.12 ('base')",
   "language": "python",
   "name": "python3"
  },
  "language_info": {
   "codemirror_mode": {
    "name": "ipython",
    "version": 3
   },
   "file_extension": ".py",
   "mimetype": "text/x-python",
   "name": "python",
   "nbconvert_exporter": "python",
   "pygments_lexer": "ipython3",
   "version": "3.9.12"
  },
  "orig_nbformat": 4,
  "vscode": {
   "interpreter": {
    "hash": "d4d1e4263499bec80672ea0156c357c1ee493ec2b1c70f0acce89fc37c4a6abe"
   }
  }
 },
 "nbformat": 4,
 "nbformat_minor": 2
}
